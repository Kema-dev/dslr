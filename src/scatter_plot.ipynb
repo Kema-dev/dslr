{
 "cells": [
  {
   "cell_type": "code",
   "execution_count": null,
   "metadata": {},
   "outputs": [],
   "source": [
    "%reload_ext autoreload\n",
    "%autoreload 2\n",
    "import sys\n",
    "DATA_PATH = '../data/datasets/dataset_train.csv'"
   ]
  },
  {
   "cell_type": "code",
   "execution_count": null,
   "metadata": {},
   "outputs": [],
   "source": [
    "import pandas as pd\n",
    "import numpy as np\n",
    "import matplotlib.pyplot as plt\n",
    "\n",
    "data = pd.read_csv(DATA_PATH)\n",
    "name = ['Index', 'Hogwarts House', 'First Name', 'Last Name', 'Birthday', 'Best Hand', 'Arithmancy' , 'Astronomy', 'Herbology', 'Defense Against the Dark Arts', 'Divination', 'Muggle Studies', 'Ancient Runes', 'History of Magic', 'Transfiguration', 'Potions', 'Care of Magical Creatures', 'Charms','Flying']\n",
    "color = {'Ravenclaw':'royalblue', 'Slytherin':'green', 'Gryffindor':'firebrick', 'Hufflepuff':'gold'}\n",
    "Rav =  data['Hogwarts House'] == 'Ravenclaw'\n",
    "Sly =  data['Hogwarts House'] == 'Slytherin'\n",
    "Gry =  data['Hogwarts House'] == 'Gryffindor'\n",
    "Huf =  data['Hogwarts House'] == 'Hufflepuff'"
   ]
  },
  {
   "cell_type": "markdown",
   "metadata": {},
   "source": [
    "Scatterplot : `What are the two features that are similar ?'"
   ]
  },
  {
   "cell_type": "code",
   "execution_count": null,
   "metadata": {},
   "outputs": [],
   "source": [
    "from matplotlib.lines import Line2D\n",
    "\n",
    "# Uncomment to print all scatter plots\n",
    "\n",
    "# for i in name[6:]:\n",
    "# \tfor j in name[6:]:\n",
    "# \t\tif (i != j):\n",
    "# \t\t\tcorr = data[i].corr(data[j])\n",
    "# \t\t\tlegend_elements = [Line2D([0], [0], marker='o', color='royalblue', label='Ravenclaw', linestyle=\"None\"),\n",
    "# \t\t\t\t\t\t\t\tLine2D([0], [0], marker='o', color='green', label='Slytherin', linestyle=\"None\"),\n",
    "# \t\t\t\t\t\t\t\tLine2D([0], [0], marker='o', color='firebrick', label='Gryffindor', linestyle=\"None\"),\n",
    "# \t\t\t\t\t\t\t\tLine2D([0], [0], marker='o', color='gold', label='Hufflepuff', linestyle=\"None\"),\n",
    "# \t\t\t\t\t\t\t\tLine2D([0], [0], marker=\"\", label='Correlation coefficient:' + \"{:.4f}\".format(corr), linestyle=\"None\")]\n",
    "# \t\t\tfig, ax = plt.subplots()\n",
    "# \t\t\tax.legend(handles=legend_elements)\n",
    "# \t\t\tplt.scatter(data[i], data[j], c=data['Hogwarts House'].map(color))\n",
    "# \t\t\tplt.title('Correlation between ' + i + ' and ' + j)\n",
    "# \t\t\tplt.xlabel(i)\n",
    "# \t\t\tplt.ylabel(j)\n",
    "# \t\t\tplt.show()\n",
    "\n",
    "corr = data['Defense Against the Dark Arts'].corr(data['Astronomy'])\n",
    "legend_elements = [Line2D([0], [0], marker='o', color='royalblue', label='Ravenclaw', linestyle=\"None\"),\n",
    "\t\t\t\t\tLine2D([0], [0], marker='o', color='green', label='Slytherin', linestyle=\"None\"),\n",
    "\t\t\t\t\tLine2D([0], [0], marker='o', color='firebrick', label='Gryffindor', linestyle=\"None\"),\n",
    "\t\t\t\t\tLine2D([0], [0], marker='o', color='gold', label='Hufflepuff', linestyle=\"None\"),\n",
    "\t\t\t\t\tLine2D([0], [0], marker=\"\", label='Correlation coefficient:' + \"{:.4f}\".format(corr), linestyle=\"None\")]\n",
    "fig, ax = plt.subplots()\n",
    "ax.legend(handles=legend_elements)\n",
    "plt.scatter(data['Astronomy'], data['Defense Against the Dark Arts'], c=data['Hogwarts House'].map(color))\n",
    "plt.title('Correlation between Astronomy and Defense Against the Dark Arts')\n",
    "plt.xlabel('Astronomy')\n",
    "plt.ylabel('Defense Against the Dark Arts')\n",
    "plt.show()"
   ]
  }
 ],
 "metadata": {
  "interpreter": {
   "hash": "916dbcbb3f70747c44a77c7bcd40155683ae19c65e1c03b4aa3499c5328201f1"
  },
  "kernelspec": {
   "display_name": "Python 3.9.7 64-bit",
   "name": "python3"
  },
  "language_info": {
   "codemirror_mode": {
    "name": "ipython",
    "version": 3
   },
   "file_extension": ".py",
   "mimetype": "text/x-python",
   "name": "python",
   "nbconvert_exporter": "python",
   "pygments_lexer": "ipython3",
   "version": "3.9.7"
  },
  "orig_nbformat": 4
 },
 "nbformat": 4,
 "nbformat_minor": 2
}
