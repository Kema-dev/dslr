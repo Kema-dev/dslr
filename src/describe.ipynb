{
 "cells": [
  {
   "cell_type": "markdown",
   "metadata": {},
   "source": [
    "Init"
   ]
  },
  {
   "cell_type": "code",
   "execution_count": 31,
   "metadata": {},
   "outputs": [],
   "source": [
    "%reload_ext autoreload\n",
    "%autoreload 2\n",
    "DATA_PATH = '../data/datasets/dataset_train.csv'"
   ]
  },
  {
   "cell_type": "markdown",
   "metadata": {},
   "source": [
    "Retrieving data"
   ]
  },
  {
   "cell_type": "code",
   "execution_count": 32,
   "metadata": {},
   "outputs": [
    {
     "name": "stdout",
     "output_type": "stream",
     "text": [
      "Successfuly retrieved the dataset ../data/datasets/dataset_train.csv\n"
     ]
    }
   ],
   "source": [
    "import numpy as np\n",
    "try:\n",
    "\tarr = np.genfromtxt(DATA_PATH, delimiter=',', dtype=str)\n",
    "\tprint('Successfuly retrieved the dataset', DATA_PATH)\n",
    "except Exception as e:\n",
    "\tprint(e)\n",
    "\tprint(DATA_PATH, 'doesn\\'t exists or isn\\'t valid')\n",
    "\traise KeyboardInterrupt()"
   ]
  },
  {
   "cell_type": "markdown",
   "metadata": {},
   "source": [
    "Sorting revealant features"
   ]
  },
  {
   "cell_type": "markdown",
   "metadata": {},
   "source": [
    "Preparing arrays"
   ]
  },
  {
   "cell_type": "code",
   "execution_count": 33,
   "metadata": {},
   "outputs": [],
   "source": [
    "nb_row, nb_col = arr.shape\n",
    "dt = []\n",
    "for i in range(0, nb_col):\n",
    "\tdt.append(arr[:,i])\n",
    "name = []\n",
    "for i in dt:\n",
    "\tname.append(i[0])\n",
    "var = []\n",
    "for i in dt:\n",
    "\tvar.append(i[1:])\n",
    "feat = []\n",
    "for v in var[5:]:\n",
    "\tfeat.append(v)"
   ]
  },
  {
   "cell_type": "markdown",
   "metadata": {},
   "source": [
    "Calculating some stats"
   ]
  },
  {
   "cell_type": "markdown",
   "metadata": {},
   "source": [
    "Sorting function"
   ]
  },
  {
   "cell_type": "code",
   "execution_count": 34,
   "metadata": {},
   "outputs": [],
   "source": [
    "def sortFloat(data):\n",
    "\tnew = []\n",
    "\tbuf = []\n",
    "\tbuf[:] = [x for x in data if x]\n",
    "\tleng = len(buf)\n",
    "\tfor i in range (leng):\n",
    "\t\tbuf[i] = float(buf[i])\n",
    "\tfor i in range (leng):\n",
    "\t\tfor j in range(i + 1, leng):\n",
    "\t\t\tif(buf[i] > buf[j]):\n",
    "\t\t\t\ttmp = buf[i]\n",
    "\t\t\t\tbuf[i] = buf[j]\n",
    "\t\t\t\tbuf[j] = tmp\n",
    "\treturn buf"
   ]
  },
  {
   "cell_type": "code",
   "execution_count": 35,
   "metadata": {},
   "outputs": [],
   "source": [
    "ordrd = []\n",
    "for f in feat[1:]:\n",
    "\tordrd.append(sortFloat(f))"
   ]
  },
  {
   "cell_type": "markdown",
   "metadata": {},
   "source": [
    "Count"
   ]
  },
  {
   "cell_type": "code",
   "execution_count": 36,
   "metadata": {},
   "outputs": [],
   "source": [
    "count = []\n",
    "count.append(len(feat[0]))\n",
    "for v in ordrd:\n",
    "\tcount.append(len(v))\n",
    "# print (count)"
   ]
  },
  {
   "cell_type": "markdown",
   "metadata": {},
   "source": [
    "Mean (Hand)"
   ]
  },
  {
   "cell_type": "code",
   "execution_count": 37,
   "metadata": {},
   "outputs": [],
   "source": [
    "mean = []\n",
    "avgHand = list(feat[0]).count('Left') / list(feat[0]).count('Right')\n",
    "if avgHand > 1:\n",
    "\tmean.append('Left')\n",
    "elif avgHand < 1:\n",
    "\tmean.append('Right')\n",
    "else:\n",
    "\tmean.append('Balanced Left / Right')"
   ]
  },
  {
   "cell_type": "markdown",
   "metadata": {},
   "source": [
    "Mean (Others)"
   ]
  },
  {
   "cell_type": "code",
   "execution_count": 38,
   "metadata": {},
   "outputs": [],
   "source": [
    "for v in ordrd:\n",
    "\ttmpMean = 0\n",
    "\tdelta = 0\n",
    "\tfor i in v:\n",
    "\t\tif i:\n",
    "\t\t\ttmpMean += float(i)\n",
    "\t\telse:\n",
    "\t\t\tdelta += 1\n",
    "\ttmpMean = tmpMean / (len(v) - delta)\n",
    "\tmean.append(tmpMean)\n",
    "# print(mean)"
   ]
  },
  {
   "cell_type": "markdown",
   "metadata": {},
   "source": [
    "Std"
   ]
  },
  {
   "cell_type": "code",
   "execution_count": 39,
   "metadata": {},
   "outputs": [],
   "source": [
    "std = []\n",
    "std.append('N/A')\n",
    "i = 1\n",
    "delta = 0\n",
    "for v in ordrd:\n",
    "\tvariance = 0\n",
    "\tfor x in v:\n",
    "\t\tif x:\n",
    "\t\t\tvariance += (float(x) - mean[i]) ** 2\n",
    "\t\telse:\n",
    "\t\t\tdelta += 1\n",
    "\tvariance = variance / (len(v) - delta)\n",
    "\tstd.append(variance ** 0.5)\n",
    "\ti = i + 1\n",
    "# print(std)"
   ]
  },
  {
   "cell_type": "markdown",
   "metadata": {},
   "source": [
    "Min"
   ]
  },
  {
   "cell_type": "code",
   "execution_count": 40,
   "metadata": {},
   "outputs": [],
   "source": [
    "minc = []\n",
    "minc.append('N/A')\n",
    "for v in ordrd:\n",
    "\tif (v and len(v) > 1):\n",
    "\t\tminc.append(v[0])\n",
    "\telse:\n",
    "\t\tminc.append('N/A')\n",
    "# print(minc)"
   ]
  },
  {
   "cell_type": "markdown",
   "metadata": {},
   "source": [
    "25%"
   ]
  },
  {
   "cell_type": "code",
   "execution_count": 41,
   "metadata": {},
   "outputs": [],
   "source": [
    "twf = []\n",
    "twf.append('N/A')\n",
    "for v in ordrd:\n",
    "\tif (v and len(v) > 4):\n",
    "\t\tplace = len(v) * 0.25\n",
    "\t\tprc = v[int(place)] * (place % 1) + v[int(place +  1)] * (1 - place % 1)\n",
    "\t\ttwf.append(prc)\n",
    "\telse:\n",
    "\t\ttwf.append('N/A')\n",
    "# print(twf)"
   ]
  },
  {
   "cell_type": "markdown",
   "metadata": {},
   "source": [
    "50%"
   ]
  },
  {
   "cell_type": "code",
   "execution_count": 42,
   "metadata": {},
   "outputs": [],
   "source": [
    "fift = []\n",
    "fift.append('N/A')\n",
    "for v in ordrd:\n",
    "\tif (v and len(v) > 4):\n",
    "\t\tplace = len(v) * 0.5\n",
    "\t\tprc = v[int(place)] * (place % 1) + v[int(place +  1)] * (1 - place % 1)\n",
    "\t\tfift.append(prc)\n",
    "\telse:\n",
    "\t\tfift.append('N/A')\n",
    "# print(fift)"
   ]
  },
  {
   "cell_type": "markdown",
   "metadata": {},
   "source": [
    "75%"
   ]
  },
  {
   "cell_type": "code",
   "execution_count": 43,
   "metadata": {},
   "outputs": [],
   "source": [
    "sevf = []\n",
    "sevf.append('N/A')\n",
    "for v in ordrd:\n",
    "\tif (v and len(v) > 4):\n",
    "\t\tplace = len(v) * 0.75\n",
    "\t\tprc = v[int(place)] * (place % 1) + v[int(place +  1)] * (1 - place % 1)\n",
    "\t\tsevf.append(prc)\n",
    "\telse:\n",
    "\t\tsevf.append('N/A')\n",
    "# print(sevf)"
   ]
  },
  {
   "cell_type": "markdown",
   "metadata": {},
   "source": [
    "Max"
   ]
  },
  {
   "cell_type": "code",
   "execution_count": 44,
   "metadata": {},
   "outputs": [],
   "source": [
    "maxc = []\n",
    "maxc.append('N/A')\n",
    "for v in ordrd:\n",
    "\tif (v and len(v) > 1):\n",
    "\t\tmaxc.append(v[-1])\n",
    "\telse:\n",
    "\t\tmaxc.append('N/A')\n",
    "# print(maxc)"
   ]
  },
  {
   "cell_type": "markdown",
   "metadata": {},
   "source": [
    "Printing results"
   ]
  },
  {
   "cell_type": "code",
   "execution_count": 45,
   "metadata": {},
   "outputs": [
    {
     "name": "stdout",
     "output_type": "stream",
     "text": [
      "                  |    Arithmancy    |    Astronomy     |    Herbology     |Defense Against th|    Divination    |  Muggle Studies  |\n",
      "      Count       |       1566       |       1568       |       1567       |       1569       |       1561       |       1565       |\n",
      "       Mean       |   49634.57024    |     39.79713     |     1.14102      |     -0.38786     |     3.15391      |    -224.58991    |\n",
      "       std        |   16674.47958    |    520.13233     |     5.21802      |     5.21113      |     4.15397      |    486.18943     |\n",
      "       Min        |   -24370.00000   |    -966.74055    |    -10.29566     |    -10.16212     |     -8.72700     |   -1086.49683    |\n",
      "       25%        |   38513.00000    |    -489.48755    |     -4.31015     |     -5.24772     |     3.10050      |    -577.57647    |\n",
      "       50%        |   49034.00000    |    261.84438     |     3.47766      |     -2.58113     |     4.62450      |    -418.91264    |\n",
      "       75%        |   60873.00000    |    526.33254     |     5.42264      |     4.90521      |     5.66725      |    255.94052     |\n",
      "       Max        |   104956.00000   |    1016.21194    |     11.61290     |     9.66741      |     10.03200     |    1092.38861    |\n",
      "\n",
      "\n",
      "                  |  Ancient Runes   | History of Magic | Transfiguration  |     Potions      |Care of Magical Cr|      Charms      |      Flying      |\n",
      "      Count       |       1565       |       1557       |       1566       |       1570       |       1560       |       1600       |       1600       |\n",
      "       Mean       |    495.74797     |     2.96309      |    1030.09695    |     5.95037      |     -0.05343     |    -243.37441    |     21.95801     |\n",
      "       std        |    106.25120     |     4.42435      |     44.11103     |     3.14685      |     0.97115      |     8.78089      |     97.60109     |\n",
      "       Min        |    283.86961     |     -8.85899     |    906.62732     |     -4.69748     |     -3.31368     |    -261.04892    |    -181.47000    |\n",
      "       25%        |    397.53494     |     2.22247      |    1026.24827    |     3.64867      |     -0.66974     |    -250.64589    |    -41.66000     |\n",
      "       50%        |    464.12295     |     4.37890      |    1045.54430    |     5.88579      |     -0.04327     |    -244.86731    |     -2.45000     |\n",
      "       75%        |    597.54516     |     5.82799      |    1058.46540    |     8.25155      |     0.59591      |    -232.53193    |     51.47000     |\n",
      "       Max        |    745.39622     |     11.88971     |    1098.95820    |     13.53676     |     3.05655      |    -225.42814    |    279.07000     |"
     ]
    }
   ],
   "source": [
    "print(\"\".center(18), end='|')\n",
    "for i in range(6, 12):\n",
    "\tprint(name[i][0:18].center(18), end='|')\n",
    "print()\n",
    "print(\"Count\".center(18), end='|')\n",
    "for i in range(1, 7):\n",
    "\tprint(str(count[i])[0:18].center(18), end='|')\n",
    "print()\n",
    "print(\"Mean\".center(18), end='|')\n",
    "for i in range(1, 7):\n",
    "\tprint(\"{:.5f}\".format(mean[i])[0:18].center(18), end='|')\n",
    "print()\n",
    "print(\"std\".center(18), end='|')\n",
    "for i in range(1, 7):\n",
    "\tprint(\"{:.5f}\".format(std[i])[0:18].center(18), end='|')\n",
    "print()\n",
    "print(\"Min\".center(18), end='|')\n",
    "for i in range(1, 7):\n",
    "\tprint(\"{:.5f}\".format(minc[i])[0:18].center(18), end='|')\n",
    "print()\n",
    "print(\"25%\".center(18), end='|')\n",
    "for i in range(1, 7):\n",
    "\tprint(\"{:.5f}\".format(twf[i])[0:18].center(18), end='|')\n",
    "print()\n",
    "print(\"50%\".center(18), end='|')\n",
    "for i in range(1, 7):\n",
    "\tprint(\"{:.5f}\".format(fift[i])[0:18].center(18), end='|')\n",
    "print()\n",
    "print(\"75%\".center(18), end='|')\n",
    "for i in range(1, 7):\n",
    "\tprint(\"{:.5f}\".format(sevf[i])[0:18].center(18), end='|')\n",
    "print()\n",
    "print(\"Max\".center(18), end='|')\n",
    "for i in range(1, 7):\n",
    "\tprint(\"{:.5f}\".format(maxc[i])[0:18].center(18), end='|')\n",
    "\n",
    "print(\"\\n\\n\")\n",
    "\n",
    "print(\"\".center(18), end='|')\n",
    "for i in range(12, 19):\n",
    "\tprint(name[i][0:18].center(18), end='|')\n",
    "print()\n",
    "print(\"Count\".center(18), end='|')\n",
    "for i in range(7, 14):\n",
    "\tprint(str(count[i])[0:18].center(18), end='|')\n",
    "print()\n",
    "print(\"Mean\".center(18), end='|')\n",
    "for i in range(7, 14):\n",
    "\tprint(\"{:.5f}\".format(mean[i])[0:18].center(18), end='|')\n",
    "print()\n",
    "print(\"std\".center(18), end='|')\n",
    "for i in range(7, 14):\n",
    "\tprint(\"{:.5f}\".format(std[i])[0:18].center(18), end='|')\n",
    "print()\n",
    "print(\"Min\".center(18), end='|')\n",
    "for i in range(7, 14):\n",
    "\tprint(\"{:.5f}\".format(minc[i])[0:18].center(18), end='|')\n",
    "print()\n",
    "print(\"25%\".center(18), end='|')\n",
    "for i in range(7, 14):\n",
    "\tprint(\"{:.5f}\".format(twf[i])[0:18].center(18), end='|')\n",
    "print()\n",
    "print(\"50%\".center(18), end='|')\n",
    "for i in range(7, 14):\n",
    "\tprint(\"{:.5f}\".format(fift[i])[0:18].center(18), end='|')\n",
    "print()\n",
    "print(\"75%\".center(18), end='|')\n",
    "for i in range(7, 14):\n",
    "\tprint(\"{:.5f}\".format(sevf[i])[0:18].center(18), end='|')\n",
    "print()\n",
    "print(\"Max\".center(18), end='|')\n",
    "for i in range(7, 14):\n",
    "\tprint(\"{:.5f}\".format(maxc[i])[0:18].center(18), end='|')"
   ]
  }
 ],
 "metadata": {
  "interpreter": {
   "hash": "31f2aee4e71d21fbe5cf8b01ff0e069b9275f58929596ceb00d14d90e3e16cd6"
  },
  "kernelspec": {
   "display_name": "Python 3.9.7 64-bit",
   "name": "python3"
  },
  "language_info": {
   "codemirror_mode": {
    "name": "ipython",
    "version": 3
   },
   "file_extension": ".py",
   "mimetype": "text/x-python",
   "name": "python",
   "nbconvert_exporter": "python",
   "pygments_lexer": "ipython3",
   "version": "3.9.10"
  },
  "orig_nbformat": 4
 },
 "nbformat": 4,
 "nbformat_minor": 2
}
