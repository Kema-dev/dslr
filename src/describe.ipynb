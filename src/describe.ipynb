{
 "cells": [
  {
   "cell_type": "markdown",
   "metadata": {},
   "source": [
    "Init"
   ]
  },
  {
   "cell_type": "code",
   "execution_count": 48,
   "metadata": {},
   "outputs": [],
   "source": [
    "%reload_ext autoreload\n",
    "%autoreload 2\n",
    "import sys\n",
    "DATA_PATH = '../data/datasets/dataset_train.csv'"
   ]
  },
  {
   "cell_type": "markdown",
   "metadata": {},
   "source": [
    "Retrieving data"
   ]
  },
  {
   "cell_type": "code",
   "execution_count": 49,
   "metadata": {},
   "outputs": [
    {
     "name": "stdout",
     "output_type": "stream",
     "text": [
      "Successfuly retrieved the dataset ../data/datasets/dataset_train.csv\n"
     ]
    }
   ],
   "source": [
    "import numpy as np\n",
    "arr = np.genfromtxt(DATA_PATH, delimiter=',', dtype=str)\n",
    "try:\n",
    "\tarr = np.genfromtxt(DATA_PATH, delimiter=',', dtype=str)\n",
    "\tprint('Successfuly retrieved the dataset', DATA_PATH)\n",
    "except Exception as e:\n",
    "\tprint(e)\n",
    "\tprint(DATA_PATH, 'doesn\\'t exists or isn\\'t valid')\n",
    "\traise KeyboardInterrupt()"
   ]
  },
  {
   "cell_type": "markdown",
   "metadata": {},
   "source": [
    "Sorting function with trivial data type recognition"
   ]
  },
  {
   "cell_type": "code",
   "execution_count": 50,
   "metadata": {},
   "outputs": [],
   "source": [
    "def sort_lst(data):\n",
    "\tnew = []\n",
    "\tbuf = list(data[1:])\n",
    "\tif (buf[0].find('.') >= 0):\n",
    "\t\tfor x in buf:\n",
    "\t\t\tif (x):\n",
    "\t\t\t\tx = float(x)\n",
    "\t\t\telse:\n",
    "\t\t\t\tx = float('NaN')\n",
    "\tbuf = list(buf)\n",
    "\tfor x in buf:\n",
    "\t\tminimum = buf[0]\n",
    "\t\tfor x in buf:\n",
    "\t\t\tif x < minimum:\n",
    "\t\t\t\tminimum = x\n",
    "\t\tnew.append(minimum)\n",
    "\t\tbuf.remove(minimum)\n",
    "\tnew.insert(0, data[0])\n",
    "\treturn new"
   ]
  },
  {
   "cell_type": "markdown",
   "metadata": {},
   "source": [
    "Sorting revealant features"
   ]
  },
  {
   "cell_type": "code",
   "execution_count": 51,
   "metadata": {},
   "outputs": [],
   "source": [
    "nb_row, nb_col = arr.shape\n",
    "feat = []\n",
    "for i in range(0, nb_col):\n",
    "\tfeat.append(arr[:,i])\n",
    "var = []\n",
    "for f in feat[6:]:\n",
    "\tvar.append(f)\n",
    "for v in var[6:]:\n",
    "\tv = sort_lst(v)"
   ]
  },
  {
   "cell_type": "markdown",
   "metadata": {},
   "source": [
    "Calculating some stats"
   ]
  },
  {
   "cell_type": "code",
   "execution_count": 52,
   "metadata": {},
   "outputs": [
    {
     "name": "stdout",
     "output_type": "stream",
     "text": [
      "1600\n"
     ]
    }
   ],
   "source": [
    "\n",
    "print(len(var[0][1:]))"
   ]
  }
 ],
 "metadata": {
  "interpreter": {
   "hash": "31f2aee4e71d21fbe5cf8b01ff0e069b9275f58929596ceb00d14d90e3e16cd6"
  },
  "kernelspec": {
   "display_name": "Python 3.9.7 64-bit",
   "name": "python3"
  },
  "language_info": {
   "codemirror_mode": {
    "name": "ipython",
    "version": 3
   },
   "file_extension": ".py",
   "mimetype": "text/x-python",
   "name": "python",
   "nbconvert_exporter": "python",
   "pygments_lexer": "ipython3",
   "version": "3.9.7"
  },
  "orig_nbformat": 4
 },
 "nbformat": 4,
 "nbformat_minor": 2
}
