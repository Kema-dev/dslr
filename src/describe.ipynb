{
 "cells": [
  {
   "cell_type": "markdown",
   "metadata": {},
   "source": [
    "Init"
   ]
  },
  {
   "cell_type": "code",
   "execution_count": null,
   "metadata": {},
   "outputs": [],
   "source": [
    "%reload_ext autoreload\n",
    "%autoreload 2\n",
    "import sys\n",
    "DATA_PATH = '../data/datasets/dataset_train.csv'"
   ]
  },
  {
   "cell_type": "markdown",
   "metadata": {},
   "source": [
    "Retrieving data"
   ]
  },
  {
   "cell_type": "code",
   "execution_count": null,
   "metadata": {},
   "outputs": [],
   "source": [
    "import numpy as np\n",
    "arr = np.genfromtxt(DATA_PATH, delimiter=',', dtype=str)\n",
    "try:\n",
    "\tarr = np.genfromtxt(DATA_PATH, delimiter=',', dtype=str)\n",
    "\tprint('Successfuly retrieved the dataset', DATA_PATH)\n",
    "except Exception as e:\n",
    "\tprint(e)\n",
    "\tprint(DATA_PATH, 'doesn\\'t exists or isn\\'t valid')\n",
    "\traise KeyboardInterrupt()"
   ]
  },
  {
   "cell_type": "markdown",
   "metadata": {},
   "source": [
    "Sorting revealant features"
   ]
  },
  {
   "cell_type": "markdown",
   "metadata": {},
   "source": [
    "Preparing arrays"
   ]
  },
  {
   "cell_type": "code",
   "execution_count": null,
   "metadata": {},
   "outputs": [],
   "source": [
    "nb_row, nb_col = arr.shape\n",
    "dt = []\n",
    "for i in range(0, nb_col):\n",
    "\tdt.append(arr[:,i])\n",
    "name = []\n",
    "for i in dt:\n",
    "\tname.append(i[0])\n",
    "var = []\n",
    "for i in dt:\n",
    "\tvar.append(i[1:])\n",
    "feat = []\n",
    "for v in var[5:]:\n",
    "\tfeat.append(v)\n",
    "# for f in feat[1:]:\n",
    "# \tf = sortFloat(f)"
   ]
  },
  {
   "cell_type": "markdown",
   "metadata": {},
   "source": [
    "Calculating some stats"
   ]
  },
  {
   "cell_type": "markdown",
   "metadata": {},
   "source": [
    "Count"
   ]
  },
  {
   "cell_type": "code",
   "execution_count": null,
   "metadata": {},
   "outputs": [],
   "source": [
    "count = []\n",
    "for v in feat:\n",
    "\tcount.append(len(feat[0]))"
   ]
  },
  {
   "cell_type": "markdown",
   "metadata": {},
   "source": [
    "Mean (Hand)"
   ]
  },
  {
   "cell_type": "code",
   "execution_count": null,
   "metadata": {},
   "outputs": [],
   "source": [
    "mean = []\n",
    "avgHand = list(feat[0]).count('Left') / list(feat[0]).count('Right')\n",
    "if avgHand > 1:\n",
    "\tmean.append('Left')\n",
    "elif avgHand < 1:\n",
    "\tmean.append('Right')\n",
    "else:\n",
    "\tmean.append('Balanced Left / Right')"
   ]
  },
  {
   "cell_type": "markdown",
   "metadata": {},
   "source": [
    "Sorting function"
   ]
  },
  {
   "cell_type": "code",
   "execution_count": null,
   "metadata": {},
   "outputs": [],
   "source": [
    "def sortFloat(data):\n",
    "\tnew = []\n",
    "\tbuf = []\n",
    "\tbuf[:] = [x for x in data if x]\n",
    "\tleng = len(buf)\n",
    "\tfor i in range (leng):\n",
    "\t\tbuf[i] = float(buf[i])\n",
    "\tfor i in range (leng):\n",
    "\t\tfor j in range(i + 1, leng):\n",
    "\t\t\tif(buf[i] > buf[j]):\n",
    "\t\t\t\ttmp = buf[i]\n",
    "\t\t\t\tbuf[i] = buf[j]\n",
    "\t\t\t\tbuf[j] = tmp\n",
    "\treturn buf"
   ]
  },
  {
   "cell_type": "code",
   "execution_count": null,
   "metadata": {},
   "outputs": [],
   "source": [
    "ordrd = []\n",
    "for f in feat[1:]:\n",
    "\tordrd.append(sortFloat(f))"
   ]
  },
  {
   "cell_type": "markdown",
   "metadata": {},
   "source": [
    "Mean (Others)"
   ]
  },
  {
   "cell_type": "code",
   "execution_count": null,
   "metadata": {},
   "outputs": [],
   "source": [
    "for v in ordrd:\n",
    "\ttmpMean = 0\n",
    "\tdelta = 0\n",
    "\tfor i in v:\n",
    "\t\tif i:\n",
    "\t\t\ttmpMean = tmpMean + float(i)\n",
    "\t\telse:\n",
    "\t\t\tdelta = delta + 1\n",
    "\ttmpMean = tmpMean / (len(v) - delta)\n",
    "\tmean.append(tmpMean)\n",
    "print(mean)"
   ]
  },
  {
   "cell_type": "markdown",
   "metadata": {},
   "source": [
    "Std"
   ]
  },
  {
   "cell_type": "code",
   "execution_count": null,
   "metadata": {},
   "outputs": [],
   "source": [
    "std = []\n",
    "std.append('N/A')\n",
    "i = 1\n",
    "delta = 0\n",
    "for v in ordrd:\n",
    "\tvariance = 0\n",
    "\tfor x in v:\n",
    "\t\tif x:\n",
    "\t\t\tvariance = variance + (float(x) - mean[i]) ** 2\n",
    "\t\telse:\n",
    "\t\t\tdelta = delta + 1\n",
    "\tvariance = variance / (len(v) - delta)\n",
    "\tstd.append(variance ** 0.5)\n",
    "\ti = i + 1\n",
    "print(std)"
   ]
  },
  {
   "cell_type": "markdown",
   "metadata": {},
   "source": [
    "Min"
   ]
  },
  {
   "cell_type": "code",
   "execution_count": null,
   "metadata": {},
   "outputs": [],
   "source": [
    "minc = []\n",
    "minc.append('N/A')\n",
    "for v in ordrd:\n",
    "\tminc.append(v[0])\n",
    "print(minc)"
   ]
  },
  {
   "cell_type": "markdown",
   "metadata": {},
   "source": [
    "Max"
   ]
  },
  {
   "cell_type": "code",
   "execution_count": null,
   "metadata": {},
   "outputs": [],
   "source": [
    "maxc = []\n",
    "maxc.append('N/A')\n",
    "for v in ordrd:\n",
    "\tmaxc.append(v[-1])\n",
    "print(maxc)"
   ]
  }
 ],
 "metadata": {
  "interpreter": {
   "hash": "31f2aee4e71d21fbe5cf8b01ff0e069b9275f58929596ceb00d14d90e3e16cd6"
  },
  "kernelspec": {
   "display_name": "Python 3.9.7 64-bit",
   "name": "python3"
  },
  "language_info": {
   "codemirror_mode": {
    "name": "ipython",
    "version": 3
   },
   "file_extension": ".py",
   "mimetype": "text/x-python",
   "name": "python",
   "nbconvert_exporter": "python",
   "pygments_lexer": "ipython3",
   "version": "3.9.7"
  },
  "orig_nbformat": 4
 },
 "nbformat": 4,
 "nbformat_minor": 2
}
