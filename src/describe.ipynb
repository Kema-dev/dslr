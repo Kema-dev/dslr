{
 "cells": [
  {
   "cell_type": "markdown",
   "metadata": {},
   "source": [
    "Init"
   ]
  },
  {
   "cell_type": "code",
   "execution_count": 298,
   "metadata": {},
   "outputs": [],
   "source": [
    "%reload_ext autoreload\n",
    "%autoreload 2\n",
    "import sys\n",
    "DATA_PATH = '../data/datasets/dataset_train.csv'"
   ]
  },
  {
   "cell_type": "markdown",
   "metadata": {},
   "source": [
    "Retrieving data"
   ]
  },
  {
   "cell_type": "code",
   "execution_count": 299,
   "metadata": {},
   "outputs": [
    {
     "name": "stdout",
     "output_type": "stream",
     "text": [
      "Successfuly retrieved the dataset ../data/datasets/dataset_train.csv\n"
     ]
    }
   ],
   "source": [
    "import numpy as np\n",
    "arr = np.genfromtxt(DATA_PATH, delimiter=',', dtype=str)\n",
    "try:\n",
    "\tarr = np.genfromtxt(DATA_PATH, delimiter=',', dtype=str)\n",
    "\tprint('Successfuly retrieved the dataset', DATA_PATH)\n",
    "except Exception as e:\n",
    "\tprint(e)\n",
    "\tprint(DATA_PATH, 'doesn\\'t exists or isn\\'t valid')\n",
    "\traise KeyboardInterrupt()"
   ]
  },
  {
   "cell_type": "markdown",
   "metadata": {},
   "source": [
    "Sorting revealant features"
   ]
  },
  {
   "cell_type": "markdown",
   "metadata": {},
   "source": [
    "Preparing arrays"
   ]
  },
  {
   "cell_type": "code",
   "execution_count": 300,
   "metadata": {},
   "outputs": [],
   "source": [
    "nb_row, nb_col = arr.shape\n",
    "dt = []\n",
    "for i in range(0, nb_col):\n",
    "\tdt.append(arr[:,i])\n",
    "name = []\n",
    "for i in dt:\n",
    "\tname.append(i[0])\n",
    "var = []\n",
    "for i in dt:\n",
    "\tvar.append(i[1:])\n",
    "feat = []\n",
    "for v in var[5:]:\n",
    "\tfeat.append(v)"
   ]
  },
  {
   "cell_type": "markdown",
   "metadata": {},
   "source": [
    "Calculating some stats"
   ]
  },
  {
   "cell_type": "markdown",
   "metadata": {},
   "source": [
    "Sorting function"
   ]
  },
  {
   "cell_type": "code",
   "execution_count": 301,
   "metadata": {},
   "outputs": [],
   "source": [
    "def sortFloat(data):\n",
    "\tnew = []\n",
    "\tbuf = []\n",
    "\tbuf[:] = [x for x in data if x]\n",
    "\tleng = len(buf)\n",
    "\tfor i in range (leng):\n",
    "\t\tbuf[i] = float(buf[i])\n",
    "\tfor i in range (leng):\n",
    "\t\tfor j in range(i + 1, leng):\n",
    "\t\t\tif(buf[i] > buf[j]):\n",
    "\t\t\t\ttmp = buf[i]\n",
    "\t\t\t\tbuf[i] = buf[j]\n",
    "\t\t\t\tbuf[j] = tmp\n",
    "\treturn buf"
   ]
  },
  {
   "cell_type": "code",
   "execution_count": 302,
   "metadata": {},
   "outputs": [],
   "source": [
    "ordrd = []\n",
    "for f in feat[1:]:\n",
    "\tordrd.append(sortFloat(f))"
   ]
  },
  {
   "cell_type": "markdown",
   "metadata": {},
   "source": [
    "Count"
   ]
  },
  {
   "cell_type": "code",
   "execution_count": 303,
   "metadata": {},
   "outputs": [
    {
     "name": "stdout",
     "output_type": "stream",
     "text": [
      "[1566, 1568, 1567, 1569, 1561, 1565, 1565, 1557, 1566, 1570, 1560, 1600, 1600]\n"
     ]
    }
   ],
   "source": [
    "count = []\n",
    "for v in ordrd:\n",
    "\tcount.append(len(v))\n",
    "print (count)"
   ]
  },
  {
   "cell_type": "markdown",
   "metadata": {},
   "source": [
    "Mean (Hand)"
   ]
  },
  {
   "cell_type": "code",
   "execution_count": 304,
   "metadata": {},
   "outputs": [],
   "source": [
    "mean = []\n",
    "avgHand = list(feat[0]).count('Left') / list(feat[0]).count('Right')\n",
    "if avgHand > 1:\n",
    "\tmean.append('Left')\n",
    "elif avgHand < 1:\n",
    "\tmean.append('Right')\n",
    "else:\n",
    "\tmean.append('Balanced Left / Right')"
   ]
  },
  {
   "cell_type": "markdown",
   "metadata": {},
   "source": [
    "Mean (Others)"
   ]
  },
  {
   "cell_type": "code",
   "execution_count": 305,
   "metadata": {},
   "outputs": [
    {
     "name": "stdout",
     "output_type": "stream",
     "text": [
      "['Right', 49634.57024265645, 39.79713089016489, 1.1410195296768013, -0.3878634974417937, 3.1539096732863516, -224.5899148634642, 495.7479700591573, 2.9630946151165936, 1030.096946387132, 5.950372992780097, -0.05342713670049718, -243.37440901250008, 21.958012500000063]\n"
     ]
    }
   ],
   "source": [
    "for v in ordrd:\n",
    "\ttmpMean = 0\n",
    "\tdelta = 0\n",
    "\tfor i in v:\n",
    "\t\tif i:\n",
    "\t\t\ttmpMean = tmpMean + float(i)\n",
    "\t\telse:\n",
    "\t\t\tdelta = delta + 1\n",
    "\ttmpMean = tmpMean / (len(v) - delta)\n",
    "\tmean.append(tmpMean)\n",
    "print(mean)"
   ]
  },
  {
   "cell_type": "markdown",
   "metadata": {},
   "source": [
    "Std"
   ]
  },
  {
   "cell_type": "code",
   "execution_count": 306,
   "metadata": {},
   "outputs": [
    {
     "name": "stdout",
     "output_type": "stream",
     "text": [
      "['N/A', 16674.47957652664, 520.1323297066417, 5.218016226138667, 5.21113225935, 4.153969710726385, 486.1894330848617, 106.25120223070017, 4.4243531771544795, 44.11102513805865, 3.146851589354909, 0.9711455533987503, 8.780894559533122, 97.60108742375692]\n"
     ]
    }
   ],
   "source": [
    "std = []\n",
    "std.append('N/A')\n",
    "i = 1\n",
    "delta = 0\n",
    "for v in ordrd:\n",
    "\tvariance = 0\n",
    "\tfor x in v:\n",
    "\t\tif x:\n",
    "\t\t\tvariance = variance + (float(x) - mean[i]) ** 2\n",
    "\t\telse:\n",
    "\t\t\tdelta = delta + 1\n",
    "\tvariance = variance / (len(v) - delta)\n",
    "\tstd.append(variance ** 0.5)\n",
    "\ti = i + 1\n",
    "print(std)"
   ]
  },
  {
   "cell_type": "markdown",
   "metadata": {},
   "source": [
    "Min"
   ]
  },
  {
   "cell_type": "code",
   "execution_count": 307,
   "metadata": {},
   "outputs": [
    {
     "name": "stdout",
     "output_type": "stream",
     "text": [
      "['N/A', -24370.0, -966.7405456412164, -10.295662748653244, -10.16211940387396, -8.727, -1086.4968348887983, 283.8696087336624, -8.858992991610515, 906.6273196915248, -4.697483767872527, -3.313675764124477, -261.04892, -181.47]\n"
     ]
    }
   ],
   "source": [
    "minc = []\n",
    "minc.append('N/A')\n",
    "for v in ordrd:\n",
    "\tif (v and len(v) > 1):\n",
    "\t\tminc.append(v[0])\n",
    "\telse:\n",
    "\t\tsevf.append('N/A')\n",
    "print(minc)"
   ]
  },
  {
   "cell_type": "markdown",
   "metadata": {},
   "source": [
    "25%"
   ]
  },
  {
   "cell_type": "code",
   "execution_count": 308,
   "metadata": {},
   "outputs": [
    {
     "name": "stdout",
     "output_type": "stream",
     "text": [
      "['N/A', 38513.0, -489.4875499344749, -4.310150036197523, -5.2477194896937185, 3.1005000000000003, -577.5764749355794, 397.53494331463673, 2.2224722602224496, 1026.2482725077145, 3.648670582440088, -0.6697441641071296, -250.64588999999998, -41.66]\n"
     ]
    }
   ],
   "source": [
    "twf = []\n",
    "twf.append('N/A')\n",
    "for v in ordrd:\n",
    "\tif (v and len(v) > 4):\n",
    "\t\tplace = len(v) * 0.25\n",
    "\t\tprc = v[int(place)] * (place % 1) + v[int(place +  1)] * (1 - place % 1)\n",
    "\t\ttwf.append(prc)\n",
    "\telse:\n",
    "\t\ttwf.append('N/A')\n",
    "print(twf)"
   ]
  },
  {
   "cell_type": "markdown",
   "metadata": {},
   "source": [
    "50%"
   ]
  },
  {
   "cell_type": "code",
   "execution_count": 309,
   "metadata": {},
   "outputs": [
    {
     "name": "stdout",
     "output_type": "stream",
     "text": [
      "['N/A', 49034.0, 261.84438377337773, 3.477659664856028, -2.581130317446064, 4.624499999999999, -418.9126436257238, 464.12295170868344, 4.378896990603996, 1045.5443033349936, 5.8857893627957845, -0.043272224128663606, -244.86731, -2.45]\n"
     ]
    }
   ],
   "source": [
    "fift = []\n",
    "fift.append('N/A')\n",
    "for v in ordrd:\n",
    "\tif (v and len(v) > 4):\n",
    "\t\tplace = len(v) * 0.5\n",
    "\t\tprc = v[int(place)] * (place % 1) + v[int(place +  1)] * (1 - place % 1)\n",
    "\t\tfift.append(prc)\n",
    "\telse:\n",
    "\t\tfift.append('N/A')\n",
    "print(fift)"
   ]
  },
  {
   "cell_type": "markdown",
   "metadata": {},
   "source": [
    "75%"
   ]
  },
  {
   "cell_type": "code",
   "execution_count": 310,
   "metadata": {},
   "outputs": [
    {
     "name": "stdout",
     "output_type": "stream",
     "text": [
      "['N/A', 60873.0, 526.3325363743589, 5.4226367055781015, 4.90521498350803, 5.667250000000001, 255.9405241562739, 597.5451631939261, 5.827985498665873, 1058.4654013854035, 8.251549798774938, 0.5959131365739575, -232.53193, 51.47]\n"
     ]
    }
   ],
   "source": [
    "sevf = []\n",
    "sevf.append('N/A')\n",
    "for v in ordrd:\n",
    "\tif (v and len(v) > 4):\n",
    "\t\tplace = len(v) * 0.75\n",
    "\t\tprc = v[int(place)] * (place % 1) + v[int(place +  1)] * (1 - place % 1)\n",
    "\t\tsevf.append(prc)\n",
    "\telse:\n",
    "\t\tsevf.append('N/A')\n",
    "print(sevf)"
   ]
  },
  {
   "cell_type": "markdown",
   "metadata": {},
   "source": [
    "Max"
   ]
  },
  {
   "cell_type": "code",
   "execution_count": 311,
   "metadata": {},
   "outputs": [
    {
     "name": "stdout",
     "output_type": "stream",
     "text": [
      "['N/A', 104956.0, 1016.2119403873959, 11.612895082210851, 9.667405456412162, 10.032, 1092.3886105728684, 745.3962198761234, 11.889712754042707, 1098.9582005409077, 13.536762124994421, 3.0565457738978123, -225.42813999999998, 279.07]\n"
     ]
    }
   ],
   "source": [
    "maxc = []\n",
    "maxc.append('N/A')\n",
    "for v in ordrd:\n",
    "\tif (v and len(v) > 1):\n",
    "\t\tmaxc.append(v[-1])\n",
    "\telse:\n",
    "\t\tsevf.append('N/A')\n",
    "print(maxc)"
   ]
  },
  {
   "cell_type": "markdown",
   "metadata": {},
   "source": [
    "Data Visualization"
   ]
  },
  {
   "cell_type": "code",
   "execution_count": null,
   "metadata": {},
   "outputs": [],
   "source": []
  }
 ],
 "metadata": {
  "interpreter": {
   "hash": "31f2aee4e71d21fbe5cf8b01ff0e069b9275f58929596ceb00d14d90e3e16cd6"
  },
  "kernelspec": {
   "display_name": "Python 3.9.7 64-bit",
   "name": "python3"
  },
  "language_info": {
   "codemirror_mode": {
    "name": "ipython",
    "version": 3
   },
   "file_extension": ".py",
   "mimetype": "text/x-python",
   "name": "python",
   "nbconvert_exporter": "python",
   "pygments_lexer": "ipython3",
   "version": "3.9.7"
  },
  "orig_nbformat": 4
 },
 "nbformat": 4,
 "nbformat_minor": 2
}
