{
 "cells": [
  {
   "cell_type": "code",
   "execution_count": 7,
   "metadata": {},
   "outputs": [],
   "source": [
    "%reload_ext autoreload\n",
    "%autoreload 2\n",
    "DATA_PATH = '../data/datasets/dataset_train.csv'"
   ]
  },
  {
   "cell_type": "code",
   "execution_count": 8,
   "metadata": {},
   "outputs": [],
   "source": [
    "import pandas as pd\n",
    "\n",
    "data = pd.read_csv(DATA_PATH)\n",
    "name = ['Index', 'Hogwarts House', 'First Name', 'Last Name', 'Birthday', 'Best Hand', 'Arithmancy' , 'Astronomy', 'Herbology', 'Defense Against the Dark Arts', 'Divination', 'Muggle Studies', 'Ancient Runes', 'History of Magic', 'Transfiguration', 'Potions', 'Care of Magical Creatures', 'Charms','Flying']\n",
    "color = {'Ravenclaw':'royalblue', 'Slytherin':'green', 'Gryffindor':'firebrick', 'Hufflepuff':'gold'}\n",
    "Rav =  data['Hogwarts House'] == 'Ravenclaw'\n",
    "Sly =  data['Hogwarts House'] == 'Slytherin'\n",
    "Gry =  data['Hogwarts House'] == 'Gryffindor'\n",
    "Huf =  data['Hogwarts House'] == 'Hufflepuff'"
   ]
  },
  {
   "cell_type": "markdown",
   "metadata": {},
   "source": [
    "Histogram : `Which Hogwarts course has a homogeneous score distribution between all four houses?'"
   ]
  },
  {
   "cell_type": "code",
   "execution_count": 9,
   "metadata": {},
   "outputs": [
    {
     "data": {
      "image/png": "[encoded data removed]",
      "text/plain": [
       "<Figure size 432x288 with 1 Axes>"
      ]
     },
     "metadata": {
      "needs_background": "light"
     },
     "output_type": "display_data"
    }
   ],
   "source": [
    "import matplotlib.pyplot as plt\n",
    "from matplotlib.lines import Line2D\n",
    "# Uncomment to print all histograms\n",
    "\n",
    "# for i in name[6:]:\n",
    "# \tlegend_elements = [Line2D([0], [0], marker='o', color='royalblue', label='Ravenclaw', linestyle=\"None\"),\n",
    "# \t\t\t\t\t\tLine2D([0], [0], marker='o', color='green', label='Slytherin', linestyle=\"None\"),\n",
    "# \t\t\t\t\t\tLine2D([0], [0], marker='o', color='firebrick', label='Gryffindor', linestyle=\"None\"),\n",
    "# \t\t\t\t\t\tLine2D([0], [0], marker='o', color='gold', label='Hufflepuff', linestyle=\"None\")]\n",
    "# \tfig, ax = plt.subplots()\n",
    "# \tax.legend(handles=legend_elements)\n",
    "# \t# plt.hist(data[i], alpha=0.4, color=data[i].map(color))\n",
    "# \t# plt.hist(data[j], alpha=0.4, color=data[i].map(color))\n",
    "# \tplt.hist(data[Rav][i],\n",
    "# \t\t\tfacecolor='royalblue',\n",
    "# \t\t\tbins=50,\n",
    "# \t\t\talpha=0.5)\n",
    "# \tplt.hist(data[Sly][i],\n",
    "# \t\t\tfacecolor='green',\n",
    "# \t\t\tbins=50,\n",
    "# \t\t\talpha=0.5)\n",
    "# \tplt.hist(data[Gry][i],\n",
    "# \t\t\tfacecolor='firebrick',\n",
    "# \t\t\tbins=50,\n",
    "# \t\t\talpha=0.5)\n",
    "# \tplt.hist(data[Huf][i],\n",
    "# \t\t\tfacecolor='gold',\n",
    "# \t\t\tbins=50,\n",
    "# \t\t\talpha=0.5)\n",
    "# \tplt.title('Histograms of ' + i)\n",
    "# \tplt.xlabel(i)\n",
    "# \tplt.ylabel('Number of students')\n",
    "# \tplt.show()\n",
    "\n",
    "legend_elements = [Line2D([0], [0], marker='o', color='royalblue', label='Ravenclaw', linestyle=\"None\"),\n",
    "\t\t\t\t\tLine2D([0], [0], marker='o', color='green', label='Slytherin', linestyle=\"None\"),\n",
    "\t\t\t\t\tLine2D([0], [0], marker='o', color='firebrick', label='Gryffindor', linestyle=\"None\"),\n",
    "\t\t\t\t\tLine2D([0], [0], marker='o', color='gold', label='Hufflepuff', linestyle=\"None\")]\n",
    "fig, ax = plt.subplots()\n",
    "ax.legend(handles=legend_elements)\n",
    "plt.hist(data[Rav]['Care of Magical Creatures'],\n",
    "\t\tfacecolor='royalblue',\n",
    "\t\tbins=50,\n",
    "\t\talpha=0.5)\n",
    "plt.hist(data[Sly]['Care of Magical Creatures'],\n",
    "\t\tfacecolor='green',\n",
    "\t\tbins=50,\n",
    "\t\talpha=0.5)\n",
    "plt.hist(data[Gry]['Care of Magical Creatures'],\n",
    "\t\tfacecolor='firebrick',\n",
    "\t\tbins=50,\n",
    "\t\talpha=0.5)\n",
    "plt.hist(data[Huf]['Care of Magical Creatures'],\n",
    "\t\tfacecolor='gold',\n",
    "\t\tbins=50,\n",
    "\t\talpha=0.5)\n",
    "plt.title('Histograms of ' + 'Care of Magical Creatures')\n",
    "plt.xlabel('Care of Magical Creatures')\n",
    "plt.ylabel('Number of students')\n",
    "plt.show()"
   ]
  }
 ],
 "metadata": {
  "interpreter": {
   "hash": "916dbcbb3f70747c44a77c7bcd40155683ae19c65e1c03b4aa3499c5328201f1"
  },
  "kernelspec": {
   "display_name": "Python 3.9.7 64-bit",
   "name": "python3"
  },
  "language_info": {
   "codemirror_mode": {
    "name": "ipython",
    "version": 3
   },
   "file_extension": ".py",
   "mimetype": "text/x-python",
   "name": "python",
   "nbconvert_exporter": "python",
   "pygments_lexer": "ipython3",
   "version": "3.9.10"
  },
  "orig_nbformat": 4
 },
 "nbformat": 4,
 "nbformat_minor": 2
}
